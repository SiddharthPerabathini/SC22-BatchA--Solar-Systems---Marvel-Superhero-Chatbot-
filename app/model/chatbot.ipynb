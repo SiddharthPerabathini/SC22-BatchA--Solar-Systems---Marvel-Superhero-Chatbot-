{
 "cells": [
  {
   "cell_type": "markdown",
   "metadata": {
    "collapsed": false
   },
   "source": [
    "# Marvel Superheros Chatbot"
   ]
  },
  {
   "cell_type": "markdown",
   "metadata": {
    "collapsed": false
   },
   "source": [
    "### Part 0 - Setting Up"
   ]
  },
  {
   "cell_type": "code",
   "execution_count": 2,
   "metadata": {
    "collapsed": false
   },
   "outputs": [
   ],
   "source": [
    "from aitextgen import aitextgen\n",
    "import re\n",
    "from random import randint"
   ]
  },
  {
   "cell_type": "markdown",
   "metadata": {
    "collapsed": false
   },
   "source": [
    "### Part 1 - Loading in Trained Models"
   ]
  },
  {
   "cell_type": "code",
   "execution_count": 3,
   "metadata": {
    "collapsed": false
   },
   "outputs": [
   ],
   "source": [
    "ai_ironman = aitextgen(model_folder=\"trained_model-ironman\",\n",
    "                tokenizer_file=\"aitextgen.tokenizer-ironman.json\")"
   ]
  },
  {
   "cell_type": "code",
   "execution_count": 4,
   "metadata": {
    "collapsed": false
   },
   "outputs": [
   ],
   "source": [
    "ai_spiderman = aitextgen(model_folder=\"trained_model-spiderman\",\n",
    "                tokenizer_file=\"aitextgen.tokenizer-spiderman.json\")"
   ]
  },
  {
   "cell_type": "code",
   "execution_count": 5,
   "metadata": {
    "collapsed": false
   },
   "outputs": [
   ],
   "source": [
    "ai_thor = aitextgen(model_folder=\"trained_model-thor\",\n",
    "                tokenizer_file=\"aitextgen.tokenizer-thor.json\")"
   ]
  },
  {
   "cell_type": "markdown",
   "metadata": {
    "collapsed": false
   },
   "source": [
    "### Part 2 - Building Chatbot"
   ]
  },
  {
   "cell_type": "code",
   "execution_count": 6,
   "metadata": {
    "collapsed": false
   },
   "outputs": [
   ],
   "source": [
    "def convo(ai):\n",
    "\n",
    "    user_input = \"\"\n",
    "\n",
    "    print(\"Enter your question or statement:\")\n",
    "    user_input = input()\n",
    "    \n",
    "    \n",
    "    while user_input != \"bye\":\n",
    "\n",
    "        #making sure it ends with a period\n",
    "        #This solves the problem of the output text starting with half of a sentence\n",
    "        length = len(user_input) - 1\n",
    "        if user_input[length] == '?':\n",
    "            user_input = user_input[0:length] + '.'\n",
    "        if user_input[length] != '.' and user_input[length] != '!':\n",
    "            user_input = user_input + '.'\n",
    "\n",
    "        x = len(user_input) + 2\n",
    "        chat_bot_output = ai.generate_one(batch_size=32, prompt= user_input, max_length=1000, temperature=.8, top_p=0.9)\n",
    "\n",
    "        # Regular expression\n",
    "        text = re.sub(r'\\n',' ',chat_bot_output)\n",
    "        text = re.sub(r'%s' % user_input, '', text)\n",
    "\n",
    "        # also, take out the cuttoff sentence at the end\n",
    "        tempText = text[::-1]\n",
    "        cutOffPeriod = tempText.find(\".\")\n",
    "        cutOffEx = tempText.find(\"!\")\n",
    "        cutOffQuestion = tempText.find(\"?\")\n",
    "        # print(text[x:len(text)-cutOff])]\n",
    "        #print(text)\n",
    "        #need to find lowest index thats not below zero\n",
    "        listOfCut = [cutOffPeriod,cutOffEx,cutOffQuestion]\n",
    "        listOfCut.sort()\n",
    "        cutOff = -2;#needs to be less than -1\n",
    "        index = 0;\n",
    "        while(cutOff<=-1 and index < 3):\n",
    "            cutOff = listOfCut[index]\n",
    "            index = index + 1\n",
    "        #ensures that if text doesn't have puncuation the program won't crash\n",
    "        if(cutOff==-2):\n",
    "            text = text + \".\"\n",
    "            cutOff = len(text) - 1\n",
    "        # match = re.sub(r\"%s\" % user_input, '')\n",
    "        print(text[:len(text)-cutOff + 1].strip())\n",
    "        #print(user_input) \n",
    "        #print(text.strip())\n",
    "\n",
    "        print(\"Enter your question or statement:\")\n",
    "        user_input = input()\n"
   ]
  },
  {
   "cell_type": "code",
   "execution_count": 18,
   "metadata": {
    "cocalc": {
     "outputs": {
      "0": {
       "name": "input",
       "opts": {
        "password": false,
        "prompt": "Who do you want to talk to? ('thor', 'spiderman', 'ironman','groot')"
       },
       "output_type": "stream",
       "value": "spiderman"
      },
      "1": {
       "name": "input",
       "opts": {
        "password": false,
        "prompt": ""
       },
       "output_type": "stream"
      }
     }
    },
    "collapsed": false
   },
   "outputs": [
    {
     "name": "stdout",
     "output_type": "stream",
     "text": "Who do you want to talk to? ('thor', 'spiderman', 'ironman','groot') spiderman"
    },
    {
     "name": "stdout",
     "output_type": "stream",
     "text": " "
    },
    {
     "name": "stdout",
     "output_type": "stream",
     "text": [
      "I'd love to chat, but you have to help me with my homework :)\n",
      "Enter your question or statement:\n"
     ]
    },
    {
     "ename": "KeyboardInterrupt",
     "evalue": "Interrupted by user",
     "output_type": "error",
     "traceback": [
      "\u001b[0;31m---------------------------------------------------------------------------\u001b[0m",
      "\u001b[0;31mKeyboardInterrupt\u001b[0m                         Traceback (most recent call last)",
      "Input \u001b[0;32mIn [18]\u001b[0m, in \u001b[0;36m<cell line: 2>\u001b[0;34m()\u001b[0m\n\u001b[1;32m     12\u001b[0m \u001b[38;5;28;01melif\u001b[39;00m choice_of_character \u001b[38;5;241m==\u001b[39m \u001b[38;5;124m\"\u001b[39m\u001b[38;5;124mspiderman\u001b[39m\u001b[38;5;124m\"\u001b[39m:\n\u001b[1;32m     13\u001b[0m     \u001b[38;5;28mprint\u001b[39m(\u001b[38;5;124m\"\u001b[39m\u001b[38;5;124mI\u001b[39m\u001b[38;5;124m'\u001b[39m\u001b[38;5;124md love to chat, but you have to help me with my homework :)\u001b[39m\u001b[38;5;124m\"\u001b[39m)\n\u001b[0;32m---> 14\u001b[0m     \u001b[43mconvo\u001b[49m\u001b[43m(\u001b[49m\u001b[43mai_spiderman\u001b[49m\u001b[43m)\u001b[49m\n\u001b[1;32m     15\u001b[0m \u001b[38;5;28;01melif\u001b[39;00m choice_of_character \u001b[38;5;241m==\u001b[39m \u001b[38;5;124m\"\u001b[39m\u001b[38;5;124mthor\u001b[39m\u001b[38;5;124m\"\u001b[39m:\n\u001b[1;32m     16\u001b[0m     \u001b[38;5;28mprint\u001b[39m(\u001b[38;5;124m\"\u001b[39m\u001b[38;5;124mI am the God God of Thunder, don\u001b[39m\u001b[38;5;124m'\u001b[39m\u001b[38;5;124mt anger me!\u001b[39m\u001b[38;5;124m\"\u001b[39m)\n",
      "Input \u001b[0;32mIn [6]\u001b[0m, in \u001b[0;36mconvo\u001b[0;34m(ai)\u001b[0m\n\u001b[1;32m      3\u001b[0m user_input \u001b[38;5;241m=\u001b[39m \u001b[38;5;124m\"\u001b[39m\u001b[38;5;124m\"\u001b[39m\n\u001b[1;32m      5\u001b[0m \u001b[38;5;28mprint\u001b[39m(\u001b[38;5;124m\"\u001b[39m\u001b[38;5;124mEnter your question or statement:\u001b[39m\u001b[38;5;124m\"\u001b[39m)\n\u001b[0;32m----> 6\u001b[0m user_input \u001b[38;5;241m=\u001b[39m \u001b[38;5;28;43minput\u001b[39;49m\u001b[43m(\u001b[49m\u001b[43m)\u001b[49m\n\u001b[1;32m      9\u001b[0m \u001b[38;5;28;01mwhile\u001b[39;00m user_input \u001b[38;5;241m!=\u001b[39m \u001b[38;5;124m\"\u001b[39m\u001b[38;5;124mbye\u001b[39m\u001b[38;5;124m\"\u001b[39m:\n\u001b[1;32m     10\u001b[0m \n\u001b[1;32m     11\u001b[0m     \u001b[38;5;66;03m#making sure it ends with a period\u001b[39;00m\n\u001b[1;32m     12\u001b[0m     \u001b[38;5;66;03m#This solves the problem of the output text starting with half of a sentence\u001b[39;00m\n\u001b[1;32m     13\u001b[0m     length \u001b[38;5;241m=\u001b[39m \u001b[38;5;28mlen\u001b[39m(user_input) \u001b[38;5;241m-\u001b[39m \u001b[38;5;241m1\u001b[39m\n",
      "File \u001b[0;32m~/miniconda3/envs/nlp_env/lib/python3.8/site-packages/ipykernel/kernelbase.py:1075\u001b[0m, in \u001b[0;36mKernel.raw_input\u001b[0;34m(self, prompt)\u001b[0m\n\u001b[1;32m   1071\u001b[0m \u001b[38;5;28;01mif\u001b[39;00m \u001b[38;5;129;01mnot\u001b[39;00m \u001b[38;5;28mself\u001b[39m\u001b[38;5;241m.\u001b[39m_allow_stdin:\n\u001b[1;32m   1072\u001b[0m     \u001b[38;5;28;01mraise\u001b[39;00m StdinNotImplementedError(\n\u001b[1;32m   1073\u001b[0m         \u001b[38;5;124m\"\u001b[39m\u001b[38;5;124mraw_input was called, but this frontend does not support input requests.\u001b[39m\u001b[38;5;124m\"\u001b[39m\n\u001b[1;32m   1074\u001b[0m     )\n\u001b[0;32m-> 1075\u001b[0m \u001b[38;5;28;01mreturn\u001b[39;00m \u001b[38;5;28;43mself\u001b[39;49m\u001b[38;5;241;43m.\u001b[39;49m\u001b[43m_input_request\u001b[49m\u001b[43m(\u001b[49m\n\u001b[1;32m   1076\u001b[0m \u001b[43m    \u001b[49m\u001b[38;5;28;43mstr\u001b[39;49m\u001b[43m(\u001b[49m\u001b[43mprompt\u001b[49m\u001b[43m)\u001b[49m\u001b[43m,\u001b[49m\n\u001b[1;32m   1077\u001b[0m \u001b[43m    \u001b[49m\u001b[38;5;28;43mself\u001b[39;49m\u001b[38;5;241;43m.\u001b[39;49m\u001b[43m_parent_ident\u001b[49m\u001b[43m[\u001b[49m\u001b[38;5;124;43m\"\u001b[39;49m\u001b[38;5;124;43mshell\u001b[39;49m\u001b[38;5;124;43m\"\u001b[39;49m\u001b[43m]\u001b[49m\u001b[43m,\u001b[49m\n\u001b[1;32m   1078\u001b[0m \u001b[43m    \u001b[49m\u001b[38;5;28;43mself\u001b[39;49m\u001b[38;5;241;43m.\u001b[39;49m\u001b[43mget_parent\u001b[49m\u001b[43m(\u001b[49m\u001b[38;5;124;43m\"\u001b[39;49m\u001b[38;5;124;43mshell\u001b[39;49m\u001b[38;5;124;43m\"\u001b[39;49m\u001b[43m)\u001b[49m\u001b[43m,\u001b[49m\n\u001b[1;32m   1079\u001b[0m \u001b[43m    \u001b[49m\u001b[43mpassword\u001b[49m\u001b[38;5;241;43m=\u001b[39;49m\u001b[38;5;28;43;01mFalse\u001b[39;49;00m\u001b[43m,\u001b[49m\n\u001b[1;32m   1080\u001b[0m \u001b[43m\u001b[49m\u001b[43m)\u001b[49m\n",
      "File \u001b[0;32m~/miniconda3/envs/nlp_env/lib/python3.8/site-packages/ipykernel/kernelbase.py:1120\u001b[0m, in \u001b[0;36mKernel._input_request\u001b[0;34m(self, prompt, ident, parent, password)\u001b[0m\n\u001b[1;32m   1117\u001b[0m             \u001b[38;5;28;01mbreak\u001b[39;00m\n\u001b[1;32m   1118\u001b[0m \u001b[38;5;28;01mexcept\u001b[39;00m \u001b[38;5;167;01mKeyboardInterrupt\u001b[39;00m:\n\u001b[1;32m   1119\u001b[0m     \u001b[38;5;66;03m# re-raise KeyboardInterrupt, to truncate traceback\u001b[39;00m\n\u001b[0;32m-> 1120\u001b[0m     \u001b[38;5;28;01mraise\u001b[39;00m \u001b[38;5;167;01mKeyboardInterrupt\u001b[39;00m(\u001b[38;5;124m\"\u001b[39m\u001b[38;5;124mInterrupted by user\u001b[39m\u001b[38;5;124m\"\u001b[39m) \u001b[38;5;28;01mfrom\u001b[39;00m \u001b[38;5;28mNone\u001b[39m\n\u001b[1;32m   1121\u001b[0m \u001b[38;5;28;01mexcept\u001b[39;00m \u001b[38;5;167;01mException\u001b[39;00m:\n\u001b[1;32m   1122\u001b[0m     \u001b[38;5;28mself\u001b[39m\u001b[38;5;241m.\u001b[39mlog\u001b[38;5;241m.\u001b[39mwarning(\u001b[38;5;124m\"\u001b[39m\u001b[38;5;124mInvalid Message:\u001b[39m\u001b[38;5;124m\"\u001b[39m, exc_info\u001b[38;5;241m=\u001b[39m\u001b[38;5;28;01mTrue\u001b[39;00m)\n",
      "\u001b[0;31mKeyboardInterrupt\u001b[0m: Interrupted by user"
     ]
    }
   ],
   "source": [
    "choice_of_character = \"\"\n",
    "while(choice_of_character.lower() != \"quit\"):\n",
    "#it should go here that way when they quit out of a character they can still talk to people\n",
    "    choice_of_character = input(\"Who do you want to talk to? ('thor', 'spiderman', 'ironman','groot')\")\n",
    "    choice_of_character = choice_of_character.lower()\n",
    "    counter = 0\n",
    "\n",
    "#while loop here with a prompt at the end asking if they want to keep talking, and with who, tab over the if statements, the exit statement on the while loop should be something like quit\n",
    "    if choice_of_character == \"ironman\":\n",
    "        print(\"The billionare doesn't have time, make it quick!\")\n",
    "        convo(ai_ironman)\n",
    "    elif choice_of_character == \"spiderman\":\n",
    "        print(\"I'd love to chat, but you have to help me with my homework :)\")\n",
    "        convo(ai_spiderman)\n",
    "    elif choice_of_character == \"thor\":\n",
    "        print(\"I am the God God of Thunder, don't anger me!\")\n",
    "        convo(ai_thor)\n",
    "    elif choice_of_character == 'groot':\n",
    "        print(\"I am GROOOOOOOOOOOOOOOOOOOOT!\")\n",
    "        output =''\n",
    "        number = randint(1, 10)\n",
    "        while output != 'bye':\n",
    "            if(counter >= 500):\n",
    "                counter = 0\n",
    "            output = input('Enter a question or statement: ');\n",
    "            if output== 'bye':\n",
    "                print('')\n",
    "            elif counter == number:\n",
    "                print('We are groot')\n",
    "            else:\n",
    "                number2 = randint(1,1000)\n",
    "                if (number2 in range(1, 100)):\n",
    "                      print('I am groot!')\n",
    "                elif (number2 in range(101, 200)):\n",
    "                      print('I am groot?')\n",
    "                elif (number2 in range(201, 300)):\n",
    "                      print('I! AM! GROOT!')\n",
    "                else:\n",
    "                      print('I am groot.')\n",
    "                counter +=1\n",
    "\n",
    "    choice_exit = input('Do you want to talk to someone else? (Y/N): ')\n",
    "    if(choice_exit.lower()==\"n\"):\n",
    "        choice_of_character = \"quit\"\n",
    "\n",
    "print(\"Goodbye! Thanks for chatting\")"
   ]
  },
  {
   "cell_type": "code",
   "execution_count": 0,
   "metadata": {
    "collapsed": false
   },
   "outputs": [
   ],
   "source": [
   ]
  }
 ],
 "metadata": {
  "kernelspec": {
   "display_name": "Python (nlp_env)",
   "language": "python",
   "metadata": {
    "debugger": true
   },
   "name": "nlp_env",
   "resource_dir": "/projects/19db8d7a-e8c9-4493-a2cd-7f84aaf76d95/.local/share/jupyter/kernels/nlp_env"
  },
  "language_info": {
   "codemirror_mode": {
    "name": "ipython",
    "version": 3
   },
   "file_extension": ".py",
   "mimetype": "text/x-python",
   "name": "python",
   "nbconvert_exporter": "python",
   "pygments_lexer": "ipython3",
   "version": "3.8.13"
  }
 },
 "nbformat": 4,
 "nbformat_minor": 4
}